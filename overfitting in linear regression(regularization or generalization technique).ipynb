{
 "cells": [
  {
   "cell_type": "code",
   "execution_count": 7,
   "id": "a372253e",
   "metadata": {},
   "outputs": [],
   "source": [
    "import pandas as pd"
   ]
  },
  {
   "cell_type": "code",
   "execution_count": 41,
   "id": "80a20e8a",
   "metadata": {},
   "outputs": [],
   "source": [
    "tr = pd.read_csv(r'C:\\Users\\User\\OneDrive\\Desktop\\python\\train.csv')"
   ]
  },
  {
   "cell_type": "code",
   "execution_count": 43,
   "id": "84074369",
   "metadata": {},
   "outputs": [
    {
     "data": {
      "text/html": [
       "<div>\n",
       "<style scoped>\n",
       "    .dataframe tbody tr th:only-of-type {\n",
       "        vertical-align: middle;\n",
       "    }\n",
       "\n",
       "    .dataframe tbody tr th {\n",
       "        vertical-align: top;\n",
       "    }\n",
       "\n",
       "    .dataframe thead th {\n",
       "        text-align: right;\n",
       "    }\n",
       "</style>\n",
       "<table border=\"1\" class=\"dataframe\">\n",
       "  <thead>\n",
       "    <tr style=\"text-align: right;\">\n",
       "      <th></th>\n",
       "      <th>ID</th>\n",
       "      <th>y</th>\n",
       "      <th>X0</th>\n",
       "      <th>X1</th>\n",
       "      <th>X2</th>\n",
       "      <th>X3</th>\n",
       "      <th>X4</th>\n",
       "      <th>X5</th>\n",
       "      <th>X6</th>\n",
       "      <th>X8</th>\n",
       "      <th>...</th>\n",
       "      <th>X375</th>\n",
       "      <th>X376</th>\n",
       "      <th>X377</th>\n",
       "      <th>X378</th>\n",
       "      <th>X379</th>\n",
       "      <th>X380</th>\n",
       "      <th>X382</th>\n",
       "      <th>X383</th>\n",
       "      <th>X384</th>\n",
       "      <th>X385</th>\n",
       "    </tr>\n",
       "  </thead>\n",
       "  <tbody>\n",
       "    <tr>\n",
       "      <th>0</th>\n",
       "      <td>0</td>\n",
       "      <td>130.81</td>\n",
       "      <td>k</td>\n",
       "      <td>v</td>\n",
       "      <td>at</td>\n",
       "      <td>a</td>\n",
       "      <td>d</td>\n",
       "      <td>u</td>\n",
       "      <td>j</td>\n",
       "      <td>o</td>\n",
       "      <td>...</td>\n",
       "      <td>0</td>\n",
       "      <td>0</td>\n",
       "      <td>1</td>\n",
       "      <td>0</td>\n",
       "      <td>0</td>\n",
       "      <td>0</td>\n",
       "      <td>0</td>\n",
       "      <td>0</td>\n",
       "      <td>0</td>\n",
       "      <td>0</td>\n",
       "    </tr>\n",
       "    <tr>\n",
       "      <th>1</th>\n",
       "      <td>6</td>\n",
       "      <td>88.53</td>\n",
       "      <td>k</td>\n",
       "      <td>t</td>\n",
       "      <td>av</td>\n",
       "      <td>e</td>\n",
       "      <td>d</td>\n",
       "      <td>y</td>\n",
       "      <td>l</td>\n",
       "      <td>o</td>\n",
       "      <td>...</td>\n",
       "      <td>1</td>\n",
       "      <td>0</td>\n",
       "      <td>0</td>\n",
       "      <td>0</td>\n",
       "      <td>0</td>\n",
       "      <td>0</td>\n",
       "      <td>0</td>\n",
       "      <td>0</td>\n",
       "      <td>0</td>\n",
       "      <td>0</td>\n",
       "    </tr>\n",
       "    <tr>\n",
       "      <th>2</th>\n",
       "      <td>7</td>\n",
       "      <td>76.26</td>\n",
       "      <td>az</td>\n",
       "      <td>w</td>\n",
       "      <td>n</td>\n",
       "      <td>c</td>\n",
       "      <td>d</td>\n",
       "      <td>x</td>\n",
       "      <td>j</td>\n",
       "      <td>x</td>\n",
       "      <td>...</td>\n",
       "      <td>0</td>\n",
       "      <td>0</td>\n",
       "      <td>0</td>\n",
       "      <td>0</td>\n",
       "      <td>0</td>\n",
       "      <td>0</td>\n",
       "      <td>1</td>\n",
       "      <td>0</td>\n",
       "      <td>0</td>\n",
       "      <td>0</td>\n",
       "    </tr>\n",
       "    <tr>\n",
       "      <th>3</th>\n",
       "      <td>9</td>\n",
       "      <td>80.62</td>\n",
       "      <td>az</td>\n",
       "      <td>t</td>\n",
       "      <td>n</td>\n",
       "      <td>f</td>\n",
       "      <td>d</td>\n",
       "      <td>x</td>\n",
       "      <td>l</td>\n",
       "      <td>e</td>\n",
       "      <td>...</td>\n",
       "      <td>0</td>\n",
       "      <td>0</td>\n",
       "      <td>0</td>\n",
       "      <td>0</td>\n",
       "      <td>0</td>\n",
       "      <td>0</td>\n",
       "      <td>0</td>\n",
       "      <td>0</td>\n",
       "      <td>0</td>\n",
       "      <td>0</td>\n",
       "    </tr>\n",
       "    <tr>\n",
       "      <th>4</th>\n",
       "      <td>13</td>\n",
       "      <td>78.02</td>\n",
       "      <td>az</td>\n",
       "      <td>v</td>\n",
       "      <td>n</td>\n",
       "      <td>f</td>\n",
       "      <td>d</td>\n",
       "      <td>h</td>\n",
       "      <td>d</td>\n",
       "      <td>n</td>\n",
       "      <td>...</td>\n",
       "      <td>0</td>\n",
       "      <td>0</td>\n",
       "      <td>0</td>\n",
       "      <td>0</td>\n",
       "      <td>0</td>\n",
       "      <td>0</td>\n",
       "      <td>0</td>\n",
       "      <td>0</td>\n",
       "      <td>0</td>\n",
       "      <td>0</td>\n",
       "    </tr>\n",
       "  </tbody>\n",
       "</table>\n",
       "<p>5 rows × 378 columns</p>\n",
       "</div>"
      ],
      "text/plain": [
       "   ID       y  X0 X1  X2 X3 X4 X5 X6 X8  ...  X375  X376  X377  X378  X379  \\\n",
       "0   0  130.81   k  v  at  a  d  u  j  o  ...     0     0     1     0     0   \n",
       "1   6   88.53   k  t  av  e  d  y  l  o  ...     1     0     0     0     0   \n",
       "2   7   76.26  az  w   n  c  d  x  j  x  ...     0     0     0     0     0   \n",
       "3   9   80.62  az  t   n  f  d  x  l  e  ...     0     0     0     0     0   \n",
       "4  13   78.02  az  v   n  f  d  h  d  n  ...     0     0     0     0     0   \n",
       "\n",
       "   X380  X382  X383  X384  X385  \n",
       "0     0     0     0     0     0  \n",
       "1     0     0     0     0     0  \n",
       "2     0     1     0     0     0  \n",
       "3     0     0     0     0     0  \n",
       "4     0     0     0     0     0  \n",
       "\n",
       "[5 rows x 378 columns]"
      ]
     },
     "execution_count": 43,
     "metadata": {},
     "output_type": "execute_result"
    }
   ],
   "source": [
    "tr.head()"
   ]
  },
  {
   "cell_type": "code",
   "execution_count": 45,
   "id": "35e5acb8",
   "metadata": {},
   "outputs": [
    {
     "data": {
      "text/plain": [
       "Series([], dtype: int64)"
      ]
     },
     "execution_count": 45,
     "metadata": {},
     "output_type": "execute_result"
    }
   ],
   "source": [
    "tr.isnull().sum()[tr.isnull().sum() > 0]"
   ]
  },
  {
   "cell_type": "code",
   "execution_count": 47,
   "id": "b6ccd7a8",
   "metadata": {},
   "outputs": [],
   "source": [
    "tr = tr.drop(['ID'], axis = 1)"
   ]
  },
  {
   "cell_type": "code",
   "execution_count": 49,
   "id": "510f9de6",
   "metadata": {},
   "outputs": [
    {
     "data": {
      "text/plain": [
       "Index(['X0', 'X1', 'X2', 'X3', 'X4', 'X5', 'X6', 'X8'], dtype='object')"
      ]
     },
     "execution_count": 49,
     "metadata": {},
     "output_type": "execute_result"
    }
   ],
   "source": [
    "tr.select_dtypes(include = 'object').columns"
   ]
  },
  {
   "cell_type": "code",
   "execution_count": 51,
   "id": "90349fca",
   "metadata": {},
   "outputs": [],
   "source": [
    "from sklearn.preprocessing import LabelEncoder\n",
    "le = LabelEncoder()"
   ]
  },
  {
   "cell_type": "code",
   "execution_count": 52,
   "id": "8a2d64ce",
   "metadata": {},
   "outputs": [],
   "source": [
    "tr[tr.select_dtypes(include = 'object').columns] = tr[tr.select_dtypes(include = 'object').columns].apply(le.fit_transform)"
   ]
  },
  {
   "cell_type": "code",
   "execution_count": 53,
   "id": "de801ff6",
   "metadata": {},
   "outputs": [],
   "source": [
    "from sklearn.model_selection import train_test_split\n",
    "tr_train,tr_test = train_test_split(tr, test_size= .2)"
   ]
  },
  {
   "cell_type": "code",
   "execution_count": 54,
   "id": "bd8045c0",
   "metadata": {},
   "outputs": [],
   "source": [
    "tr_train_x = tr_train.iloc[:,1::]\n",
    "tr_train_y = tr_train.iloc[:,0]\n",
    "\n",
    "tr_test_x = tr_test.iloc[:,1::]\n",
    "tr_test_y = tr_test.iloc[:,0]"
   ]
  },
  {
   "cell_type": "code",
   "execution_count": 55,
   "id": "fac63be2",
   "metadata": {},
   "outputs": [
    {
     "data": {
      "text/plain": [
       "40      101.44\n",
       "1611     92.98\n",
       "891     127.91\n",
       "450     111.74\n",
       "3869    118.86\n",
       "         ...  \n",
       "4106    113.10\n",
       "3562    110.36\n",
       "3692     92.58\n",
       "2027     93.80\n",
       "1997     81.07\n",
       "Name: y, Length: 3367, dtype: float64"
      ]
     },
     "execution_count": 55,
     "metadata": {},
     "output_type": "execute_result"
    }
   ],
   "source": [
    "tr_train_y"
   ]
  },
  {
   "cell_type": "code",
   "execution_count": 58,
   "id": "6b10aeb3",
   "metadata": {},
   "outputs": [
    {
     "data": {
      "text/html": [
       "<style>#sk-container-id-1 {\n",
       "  /* Definition of color scheme common for light and dark mode */\n",
       "  --sklearn-color-text: black;\n",
       "  --sklearn-color-line: gray;\n",
       "  /* Definition of color scheme for unfitted estimators */\n",
       "  --sklearn-color-unfitted-level-0: #fff5e6;\n",
       "  --sklearn-color-unfitted-level-1: #f6e4d2;\n",
       "  --sklearn-color-unfitted-level-2: #ffe0b3;\n",
       "  --sklearn-color-unfitted-level-3: chocolate;\n",
       "  /* Definition of color scheme for fitted estimators */\n",
       "  --sklearn-color-fitted-level-0: #f0f8ff;\n",
       "  --sklearn-color-fitted-level-1: #d4ebff;\n",
       "  --sklearn-color-fitted-level-2: #b3dbfd;\n",
       "  --sklearn-color-fitted-level-3: cornflowerblue;\n",
       "\n",
       "  /* Specific color for light theme */\n",
       "  --sklearn-color-text-on-default-background: var(--sg-text-color, var(--theme-code-foreground, var(--jp-content-font-color1, black)));\n",
       "  --sklearn-color-background: var(--sg-background-color, var(--theme-background, var(--jp-layout-color0, white)));\n",
       "  --sklearn-color-border-box: var(--sg-text-color, var(--theme-code-foreground, var(--jp-content-font-color1, black)));\n",
       "  --sklearn-color-icon: #696969;\n",
       "\n",
       "  @media (prefers-color-scheme: dark) {\n",
       "    /* Redefinition of color scheme for dark theme */\n",
       "    --sklearn-color-text-on-default-background: var(--sg-text-color, var(--theme-code-foreground, var(--jp-content-font-color1, white)));\n",
       "    --sklearn-color-background: var(--sg-background-color, var(--theme-background, var(--jp-layout-color0, #111)));\n",
       "    --sklearn-color-border-box: var(--sg-text-color, var(--theme-code-foreground, var(--jp-content-font-color1, white)));\n",
       "    --sklearn-color-icon: #878787;\n",
       "  }\n",
       "}\n",
       "\n",
       "#sk-container-id-1 {\n",
       "  color: var(--sklearn-color-text);\n",
       "}\n",
       "\n",
       "#sk-container-id-1 pre {\n",
       "  padding: 0;\n",
       "}\n",
       "\n",
       "#sk-container-id-1 input.sk-hidden--visually {\n",
       "  border: 0;\n",
       "  clip: rect(1px 1px 1px 1px);\n",
       "  clip: rect(1px, 1px, 1px, 1px);\n",
       "  height: 1px;\n",
       "  margin: -1px;\n",
       "  overflow: hidden;\n",
       "  padding: 0;\n",
       "  position: absolute;\n",
       "  width: 1px;\n",
       "}\n",
       "\n",
       "#sk-container-id-1 div.sk-dashed-wrapped {\n",
       "  border: 1px dashed var(--sklearn-color-line);\n",
       "  margin: 0 0.4em 0.5em 0.4em;\n",
       "  box-sizing: border-box;\n",
       "  padding-bottom: 0.4em;\n",
       "  background-color: var(--sklearn-color-background);\n",
       "}\n",
       "\n",
       "#sk-container-id-1 div.sk-container {\n",
       "  /* jupyter's `normalize.less` sets `[hidden] { display: none; }`\n",
       "     but bootstrap.min.css set `[hidden] { display: none !important; }`\n",
       "     so we also need the `!important` here to be able to override the\n",
       "     default hidden behavior on the sphinx rendered scikit-learn.org.\n",
       "     See: https://github.com/scikit-learn/scikit-learn/issues/21755 */\n",
       "  display: inline-block !important;\n",
       "  position: relative;\n",
       "}\n",
       "\n",
       "#sk-container-id-1 div.sk-text-repr-fallback {\n",
       "  display: none;\n",
       "}\n",
       "\n",
       "div.sk-parallel-item,\n",
       "div.sk-serial,\n",
       "div.sk-item {\n",
       "  /* draw centered vertical line to link estimators */\n",
       "  background-image: linear-gradient(var(--sklearn-color-text-on-default-background), var(--sklearn-color-text-on-default-background));\n",
       "  background-size: 2px 100%;\n",
       "  background-repeat: no-repeat;\n",
       "  background-position: center center;\n",
       "}\n",
       "\n",
       "/* Parallel-specific style estimator block */\n",
       "\n",
       "#sk-container-id-1 div.sk-parallel-item::after {\n",
       "  content: \"\";\n",
       "  width: 100%;\n",
       "  border-bottom: 2px solid var(--sklearn-color-text-on-default-background);\n",
       "  flex-grow: 1;\n",
       "}\n",
       "\n",
       "#sk-container-id-1 div.sk-parallel {\n",
       "  display: flex;\n",
       "  align-items: stretch;\n",
       "  justify-content: center;\n",
       "  background-color: var(--sklearn-color-background);\n",
       "  position: relative;\n",
       "}\n",
       "\n",
       "#sk-container-id-1 div.sk-parallel-item {\n",
       "  display: flex;\n",
       "  flex-direction: column;\n",
       "}\n",
       "\n",
       "#sk-container-id-1 div.sk-parallel-item:first-child::after {\n",
       "  align-self: flex-end;\n",
       "  width: 50%;\n",
       "}\n",
       "\n",
       "#sk-container-id-1 div.sk-parallel-item:last-child::after {\n",
       "  align-self: flex-start;\n",
       "  width: 50%;\n",
       "}\n",
       "\n",
       "#sk-container-id-1 div.sk-parallel-item:only-child::after {\n",
       "  width: 0;\n",
       "}\n",
       "\n",
       "/* Serial-specific style estimator block */\n",
       "\n",
       "#sk-container-id-1 div.sk-serial {\n",
       "  display: flex;\n",
       "  flex-direction: column;\n",
       "  align-items: center;\n",
       "  background-color: var(--sklearn-color-background);\n",
       "  padding-right: 1em;\n",
       "  padding-left: 1em;\n",
       "}\n",
       "\n",
       "\n",
       "/* Toggleable style: style used for estimator/Pipeline/ColumnTransformer box that is\n",
       "clickable and can be expanded/collapsed.\n",
       "- Pipeline and ColumnTransformer use this feature and define the default style\n",
       "- Estimators will overwrite some part of the style using the `sk-estimator` class\n",
       "*/\n",
       "\n",
       "/* Pipeline and ColumnTransformer style (default) */\n",
       "\n",
       "#sk-container-id-1 div.sk-toggleable {\n",
       "  /* Default theme specific background. It is overwritten whether we have a\n",
       "  specific estimator or a Pipeline/ColumnTransformer */\n",
       "  background-color: var(--sklearn-color-background);\n",
       "}\n",
       "\n",
       "/* Toggleable label */\n",
       "#sk-container-id-1 label.sk-toggleable__label {\n",
       "  cursor: pointer;\n",
       "  display: block;\n",
       "  width: 100%;\n",
       "  margin-bottom: 0;\n",
       "  padding: 0.5em;\n",
       "  box-sizing: border-box;\n",
       "  text-align: center;\n",
       "}\n",
       "\n",
       "#sk-container-id-1 label.sk-toggleable__label-arrow:before {\n",
       "  /* Arrow on the left of the label */\n",
       "  content: \"▸\";\n",
       "  float: left;\n",
       "  margin-right: 0.25em;\n",
       "  color: var(--sklearn-color-icon);\n",
       "}\n",
       "\n",
       "#sk-container-id-1 label.sk-toggleable__label-arrow:hover:before {\n",
       "  color: var(--sklearn-color-text);\n",
       "}\n",
       "\n",
       "/* Toggleable content - dropdown */\n",
       "\n",
       "#sk-container-id-1 div.sk-toggleable__content {\n",
       "  max-height: 0;\n",
       "  max-width: 0;\n",
       "  overflow: hidden;\n",
       "  text-align: left;\n",
       "  /* unfitted */\n",
       "  background-color: var(--sklearn-color-unfitted-level-0);\n",
       "}\n",
       "\n",
       "#sk-container-id-1 div.sk-toggleable__content.fitted {\n",
       "  /* fitted */\n",
       "  background-color: var(--sklearn-color-fitted-level-0);\n",
       "}\n",
       "\n",
       "#sk-container-id-1 div.sk-toggleable__content pre {\n",
       "  margin: 0.2em;\n",
       "  border-radius: 0.25em;\n",
       "  color: var(--sklearn-color-text);\n",
       "  /* unfitted */\n",
       "  background-color: var(--sklearn-color-unfitted-level-0);\n",
       "}\n",
       "\n",
       "#sk-container-id-1 div.sk-toggleable__content.fitted pre {\n",
       "  /* unfitted */\n",
       "  background-color: var(--sklearn-color-fitted-level-0);\n",
       "}\n",
       "\n",
       "#sk-container-id-1 input.sk-toggleable__control:checked~div.sk-toggleable__content {\n",
       "  /* Expand drop-down */\n",
       "  max-height: 200px;\n",
       "  max-width: 100%;\n",
       "  overflow: auto;\n",
       "}\n",
       "\n",
       "#sk-container-id-1 input.sk-toggleable__control:checked~label.sk-toggleable__label-arrow:before {\n",
       "  content: \"▾\";\n",
       "}\n",
       "\n",
       "/* Pipeline/ColumnTransformer-specific style */\n",
       "\n",
       "#sk-container-id-1 div.sk-label input.sk-toggleable__control:checked~label.sk-toggleable__label {\n",
       "  color: var(--sklearn-color-text);\n",
       "  background-color: var(--sklearn-color-unfitted-level-2);\n",
       "}\n",
       "\n",
       "#sk-container-id-1 div.sk-label.fitted input.sk-toggleable__control:checked~label.sk-toggleable__label {\n",
       "  background-color: var(--sklearn-color-fitted-level-2);\n",
       "}\n",
       "\n",
       "/* Estimator-specific style */\n",
       "\n",
       "/* Colorize estimator box */\n",
       "#sk-container-id-1 div.sk-estimator input.sk-toggleable__control:checked~label.sk-toggleable__label {\n",
       "  /* unfitted */\n",
       "  background-color: var(--sklearn-color-unfitted-level-2);\n",
       "}\n",
       "\n",
       "#sk-container-id-1 div.sk-estimator.fitted input.sk-toggleable__control:checked~label.sk-toggleable__label {\n",
       "  /* fitted */\n",
       "  background-color: var(--sklearn-color-fitted-level-2);\n",
       "}\n",
       "\n",
       "#sk-container-id-1 div.sk-label label.sk-toggleable__label,\n",
       "#sk-container-id-1 div.sk-label label {\n",
       "  /* The background is the default theme color */\n",
       "  color: var(--sklearn-color-text-on-default-background);\n",
       "}\n",
       "\n",
       "/* On hover, darken the color of the background */\n",
       "#sk-container-id-1 div.sk-label:hover label.sk-toggleable__label {\n",
       "  color: var(--sklearn-color-text);\n",
       "  background-color: var(--sklearn-color-unfitted-level-2);\n",
       "}\n",
       "\n",
       "/* Label box, darken color on hover, fitted */\n",
       "#sk-container-id-1 div.sk-label.fitted:hover label.sk-toggleable__label.fitted {\n",
       "  color: var(--sklearn-color-text);\n",
       "  background-color: var(--sklearn-color-fitted-level-2);\n",
       "}\n",
       "\n",
       "/* Estimator label */\n",
       "\n",
       "#sk-container-id-1 div.sk-label label {\n",
       "  font-family: monospace;\n",
       "  font-weight: bold;\n",
       "  display: inline-block;\n",
       "  line-height: 1.2em;\n",
       "}\n",
       "\n",
       "#sk-container-id-1 div.sk-label-container {\n",
       "  text-align: center;\n",
       "}\n",
       "\n",
       "/* Estimator-specific */\n",
       "#sk-container-id-1 div.sk-estimator {\n",
       "  font-family: monospace;\n",
       "  border: 1px dotted var(--sklearn-color-border-box);\n",
       "  border-radius: 0.25em;\n",
       "  box-sizing: border-box;\n",
       "  margin-bottom: 0.5em;\n",
       "  /* unfitted */\n",
       "  background-color: var(--sklearn-color-unfitted-level-0);\n",
       "}\n",
       "\n",
       "#sk-container-id-1 div.sk-estimator.fitted {\n",
       "  /* fitted */\n",
       "  background-color: var(--sklearn-color-fitted-level-0);\n",
       "}\n",
       "\n",
       "/* on hover */\n",
       "#sk-container-id-1 div.sk-estimator:hover {\n",
       "  /* unfitted */\n",
       "  background-color: var(--sklearn-color-unfitted-level-2);\n",
       "}\n",
       "\n",
       "#sk-container-id-1 div.sk-estimator.fitted:hover {\n",
       "  /* fitted */\n",
       "  background-color: var(--sklearn-color-fitted-level-2);\n",
       "}\n",
       "\n",
       "/* Specification for estimator info (e.g. \"i\" and \"?\") */\n",
       "\n",
       "/* Common style for \"i\" and \"?\" */\n",
       "\n",
       ".sk-estimator-doc-link,\n",
       "a:link.sk-estimator-doc-link,\n",
       "a:visited.sk-estimator-doc-link {\n",
       "  float: right;\n",
       "  font-size: smaller;\n",
       "  line-height: 1em;\n",
       "  font-family: monospace;\n",
       "  background-color: var(--sklearn-color-background);\n",
       "  border-radius: 1em;\n",
       "  height: 1em;\n",
       "  width: 1em;\n",
       "  text-decoration: none !important;\n",
       "  margin-left: 1ex;\n",
       "  /* unfitted */\n",
       "  border: var(--sklearn-color-unfitted-level-1) 1pt solid;\n",
       "  color: var(--sklearn-color-unfitted-level-1);\n",
       "}\n",
       "\n",
       ".sk-estimator-doc-link.fitted,\n",
       "a:link.sk-estimator-doc-link.fitted,\n",
       "a:visited.sk-estimator-doc-link.fitted {\n",
       "  /* fitted */\n",
       "  border: var(--sklearn-color-fitted-level-1) 1pt solid;\n",
       "  color: var(--sklearn-color-fitted-level-1);\n",
       "}\n",
       "\n",
       "/* On hover */\n",
       "div.sk-estimator:hover .sk-estimator-doc-link:hover,\n",
       ".sk-estimator-doc-link:hover,\n",
       "div.sk-label-container:hover .sk-estimator-doc-link:hover,\n",
       ".sk-estimator-doc-link:hover {\n",
       "  /* unfitted */\n",
       "  background-color: var(--sklearn-color-unfitted-level-3);\n",
       "  color: var(--sklearn-color-background);\n",
       "  text-decoration: none;\n",
       "}\n",
       "\n",
       "div.sk-estimator.fitted:hover .sk-estimator-doc-link.fitted:hover,\n",
       ".sk-estimator-doc-link.fitted:hover,\n",
       "div.sk-label-container:hover .sk-estimator-doc-link.fitted:hover,\n",
       ".sk-estimator-doc-link.fitted:hover {\n",
       "  /* fitted */\n",
       "  background-color: var(--sklearn-color-fitted-level-3);\n",
       "  color: var(--sklearn-color-background);\n",
       "  text-decoration: none;\n",
       "}\n",
       "\n",
       "/* Span, style for the box shown on hovering the info icon */\n",
       ".sk-estimator-doc-link span {\n",
       "  display: none;\n",
       "  z-index: 9999;\n",
       "  position: relative;\n",
       "  font-weight: normal;\n",
       "  right: .2ex;\n",
       "  padding: .5ex;\n",
       "  margin: .5ex;\n",
       "  width: min-content;\n",
       "  min-width: 20ex;\n",
       "  max-width: 50ex;\n",
       "  color: var(--sklearn-color-text);\n",
       "  box-shadow: 2pt 2pt 4pt #999;\n",
       "  /* unfitted */\n",
       "  background: var(--sklearn-color-unfitted-level-0);\n",
       "  border: .5pt solid var(--sklearn-color-unfitted-level-3);\n",
       "}\n",
       "\n",
       ".sk-estimator-doc-link.fitted span {\n",
       "  /* fitted */\n",
       "  background: var(--sklearn-color-fitted-level-0);\n",
       "  border: var(--sklearn-color-fitted-level-3);\n",
       "}\n",
       "\n",
       ".sk-estimator-doc-link:hover span {\n",
       "  display: block;\n",
       "}\n",
       "\n",
       "/* \"?\"-specific style due to the `<a>` HTML tag */\n",
       "\n",
       "#sk-container-id-1 a.estimator_doc_link {\n",
       "  float: right;\n",
       "  font-size: 1rem;\n",
       "  line-height: 1em;\n",
       "  font-family: monospace;\n",
       "  background-color: var(--sklearn-color-background);\n",
       "  border-radius: 1rem;\n",
       "  height: 1rem;\n",
       "  width: 1rem;\n",
       "  text-decoration: none;\n",
       "  /* unfitted */\n",
       "  color: var(--sklearn-color-unfitted-level-1);\n",
       "  border: var(--sklearn-color-unfitted-level-1) 1pt solid;\n",
       "}\n",
       "\n",
       "#sk-container-id-1 a.estimator_doc_link.fitted {\n",
       "  /* fitted */\n",
       "  border: var(--sklearn-color-fitted-level-1) 1pt solid;\n",
       "  color: var(--sklearn-color-fitted-level-1);\n",
       "}\n",
       "\n",
       "/* On hover */\n",
       "#sk-container-id-1 a.estimator_doc_link:hover {\n",
       "  /* unfitted */\n",
       "  background-color: var(--sklearn-color-unfitted-level-3);\n",
       "  color: var(--sklearn-color-background);\n",
       "  text-decoration: none;\n",
       "}\n",
       "\n",
       "#sk-container-id-1 a.estimator_doc_link.fitted:hover {\n",
       "  /* fitted */\n",
       "  background-color: var(--sklearn-color-fitted-level-3);\n",
       "}\n",
       "</style><div id=\"sk-container-id-1\" class=\"sk-top-container\"><div class=\"sk-text-repr-fallback\"><pre>LinearRegression()</pre><b>In a Jupyter environment, please rerun this cell to show the HTML representation or trust the notebook. <br />On GitHub, the HTML representation is unable to render, please try loading this page with nbviewer.org.</b></div><div class=\"sk-container\" hidden><div class=\"sk-item\"><div class=\"sk-estimator fitted sk-toggleable\"><input class=\"sk-toggleable__control sk-hidden--visually\" id=\"sk-estimator-id-1\" type=\"checkbox\" checked><label for=\"sk-estimator-id-1\" class=\"sk-toggleable__label fitted sk-toggleable__label-arrow fitted\">&nbsp;&nbsp;LinearRegression<a class=\"sk-estimator-doc-link fitted\" rel=\"noreferrer\" target=\"_blank\" href=\"https://scikit-learn.org/1.4/modules/generated/sklearn.linear_model.LinearRegression.html\">?<span>Documentation for LinearRegression</span></a><span class=\"sk-estimator-doc-link fitted\">i<span>Fitted</span></span></label><div class=\"sk-toggleable__content fitted\"><pre>LinearRegression()</pre></div> </div></div></div></div>"
      ],
      "text/plain": [
       "LinearRegression()"
      ]
     },
     "execution_count": 58,
     "metadata": {},
     "output_type": "execute_result"
    }
   ],
   "source": [
    "from sklearn.linear_model import LinearRegression\n",
    "linreg = LinearRegression()\n",
    "linreg.fit(tr_train_x, tr_train_y)"
   ]
  },
  {
   "cell_type": "code",
   "execution_count": 62,
   "id": "b31163cb",
   "metadata": {},
   "outputs": [
    {
     "data": {
      "text/plain": [
       "0.5876543919416928"
      ]
     },
     "execution_count": 62,
     "metadata": {},
     "output_type": "execute_result"
    }
   ],
   "source": [
    "Rsquare = linreg.score(tr_train_x , tr_train_y)\n",
    "Rsquare"
   ]
  },
  {
   "cell_type": "code",
   "execution_count": 63,
   "id": "8c9c423f",
   "metadata": {},
   "outputs": [
    {
     "data": {
      "text/plain": [
       "0.5358008974166348"
      ]
     },
     "execution_count": 63,
     "metadata": {},
     "output_type": "execute_result"
    }
   ],
   "source": [
    "N = tr_train_x.shape[0] # number of rows in training data\n",
    "K = tr_train_x.shape[1] # number of columns in training data \n",
    "Adj_Rsq = 1 - (1 - Rsquare) * (N - 1)/(N - K - 1)\n",
    "Adj_Rsq"
   ]
  },
  {
   "cell_type": "code",
   "execution_count": 64,
   "id": "b6226117",
   "metadata": {},
   "outputs": [],
   "source": [
    "# prediction of values\n",
    "pred_train = linreg.predict(tr_train_x)"
   ]
  },
  {
   "cell_type": "code",
   "execution_count": 66,
   "id": "2d5c81f0",
   "metadata": {},
   "outputs": [
    {
     "data": {
      "text/plain": [
       "40      -1.791934\n",
       "1611    -2.893535\n",
       "891     15.608486\n",
       "450      1.452646\n",
       "3869     8.704971\n",
       "          ...    \n",
       "4106     2.996240\n",
       "3562    -0.512070\n",
       "3692    -0.134111\n",
       "2027     1.636914\n",
       "1997     3.614678\n",
       "Name: y, Length: 3367, dtype: float64"
      ]
     },
     "execution_count": 66,
     "metadata": {},
     "output_type": "execute_result"
    }
   ],
   "source": [
    "err_train = tr_train_y - pred_train\n",
    "err_train"
   ]
  },
  {
   "cell_type": "code",
   "execution_count": 70,
   "id": "4e471d35",
   "metadata": {},
   "outputs": [
    {
     "data": {
      "text/plain": [
       "2.7449324324125787e-05"
      ]
     },
     "execution_count": 70,
     "metadata": {},
     "output_type": "execute_result"
    }
   ],
   "source": [
    "err_train.mean()"
   ]
  },
  {
   "cell_type": "code",
   "execution_count": 72,
   "id": "ef7689d1",
   "metadata": {},
   "outputs": [
    {
     "data": {
      "text/plain": [
       "[<matplotlib.lines.Line2D at 0x180f368f5f0>]"
      ]
     },
     "execution_count": 72,
     "metadata": {},
     "output_type": "execute_result"
    },
    {
     "data": {
      "image/png": "[encoded data removed]",
      "text/plain": [
       "<Figure size 640x480 with 1 Axes>"
      ]
     },
     "metadata": {},
     "output_type": "display_data"
    }
   ],
   "source": [
    "import matplotlib.pyplot as plt\n",
    "\n",
    "plt.plot(err_train, '.')"
   ]
  },
  {
   "cell_type": "code",
   "execution_count": 74,
   "id": "070cda3a",
   "metadata": {},
   "outputs": [
    {
     "data": {
      "text/plain": [
       "<Axes: xlabel='Actual', ylabel='Predicted'>"
      ]
     },
     "execution_count": 74,
     "metadata": {},
     "output_type": "execute_result"
    },
    {
     "data": {
      "image/png": "[encoded data removed]",
      "text/plain": [
       "<Figure size 640x480 with 1 Axes>"
      ]
     },
     "metadata": {},
     "output_type": "display_data"
    }
   ],
   "source": [
    "import seaborn as sns\n",
    "\n",
    "actual_pred = pd.DataFrame()\n",
    "actual_pred['Actual'] = tr_train_y\n",
    "actual_pred['Predicted'] = pred_train\n",
    "\n",
    "\n",
    "sns.regplot(x = 'Actual' , y = 'Predicted', data = actual_pred)"
   ]
  },
  {
   "cell_type": "code",
   "execution_count": 75,
   "id": "92bc8c76",
   "metadata": {},
   "outputs": [
    {
     "data": {
      "text/plain": [
       "68.2207257335115"
      ]
     },
     "execution_count": 75,
     "metadata": {},
     "output_type": "execute_result"
    }
   ],
   "source": [
    "# Evaluate model on train\n",
    "\n",
    "from sklearn.metrics import mean_squared_error\n",
    "mse_train = mean_squared_error(tr_train_y, pred_train)\n",
    "mse_train"
   ]
  },
  {
   "cell_type": "code",
   "execution_count": 76,
   "id": "0623f39f",
   "metadata": {},
   "outputs": [
    {
     "data": {
      "text/plain": [
       "4.996030631777041"
      ]
     },
     "execution_count": 76,
     "metadata": {},
     "output_type": "execute_result"
    }
   ],
   "source": [
    "from sklearn.metrics import mean_absolute_percentage_error\n",
    "mean_absolute_percentage_error(tr_train_y, pred_train) * 100"
   ]
  },
  {
   "cell_type": "code",
   "execution_count": 77,
   "id": "d2576385",
   "metadata": {},
   "outputs": [],
   "source": [
    "# Evaluate our model on test\n",
    "\n",
    "pred_test = linreg.predict(tr_test_x)\n",
    "err_test = tr_test_y - pred_test"
   ]
  },
  {
   "cell_type": "code",
   "execution_count": 78,
   "id": "2f07ec40",
   "metadata": {},
   "outputs": [
    {
     "data": {
      "text/plain": [
       "1.1694312749941195e+19"
      ]
     },
     "execution_count": 78,
     "metadata": {},
     "output_type": "execute_result"
    }
   ],
   "source": [
    "mse_test = mean_squared_error(tr_test_y, pred_test)\n",
    "mse_test"
   ]
  },
  {
   "cell_type": "code",
   "execution_count": 79,
   "id": "149adc5c",
   "metadata": {},
   "outputs": [
    {
     "data": {
      "text/plain": [
       "147791349.97630978"
      ]
     },
     "execution_count": 79,
     "metadata": {},
     "output_type": "execute_result"
    }
   ],
   "source": [
    "mean_absolute_percentage_error(tr_test_y, pred_test)*100"
   ]
  },
  {
   "cell_type": "code",
   "execution_count": 80,
   "id": "5e25028c",
   "metadata": {},
   "outputs": [],
   "source": [
    "# model is doing very good on train but failing on test\n",
    "\n",
    "# YOUR MODEL HAS BEEN OVERFITTED"
   ]
  },
  {
   "cell_type": "code",
   "execution_count": 81,
   "id": "47c03e55",
   "metadata": {},
   "outputs": [],
   "source": [
    "# why is model failing on test data ???"
   ]
  },
  {
   "cell_type": "code",
   "execution_count": 82,
   "id": "b3dc78a1",
   "metadata": {},
   "outputs": [
    {
     "data": {
      "text/plain": [
       "40      -1.791934\n",
       "1611    -2.893535\n",
       "891     15.608486\n",
       "450      1.452646\n",
       "3869     8.704971\n",
       "          ...    \n",
       "4106     2.996240\n",
       "3562    -0.512070\n",
       "3692    -0.134111\n",
       "2027     1.636914\n",
       "1997     3.614678\n",
       "Name: y, Length: 3367, dtype: float64"
      ]
     },
     "execution_count": 82,
     "metadata": {},
     "output_type": "execute_result"
    }
   ],
   "source": [
    "err_train"
   ]
  },
  {
   "cell_type": "code",
   "execution_count": 83,
   "id": "ba967172",
   "metadata": {},
   "outputs": [
    {
     "data": {
      "text/plain": [
       "3762   -3.628994e+00\n",
       "1019   -8.488896e+00\n",
       "3041    1.234104e+01\n",
       "205    -2.975000e-01\n",
       "2105   -3.691133e+00\n",
       "            ...     \n",
       "1135    1.050217e+01\n",
       "3591   -3.761602e+00\n",
       "1662    9.881958e+10\n",
       "2924    6.015625e-03\n",
       "3601   -1.714092e+00\n",
       "Name: y, Length: 842, dtype: float64"
      ]
     },
     "execution_count": 83,
     "metadata": {},
     "output_type": "execute_result"
    }
   ],
   "source": [
    "err_test"
   ]
  },
  {
   "cell_type": "code",
   "execution_count": 84,
   "id": "bd218872",
   "metadata": {},
   "outputs": [
    {
     "data": {
      "text/plain": [
       "count    4209.000000\n",
       "mean      100.669318\n",
       "std        12.679381\n",
       "min        72.110000\n",
       "25%        90.820000\n",
       "50%        99.150000\n",
       "75%       109.010000\n",
       "max       265.320000\n",
       "Name: y, dtype: float64"
      ]
     },
     "execution_count": 84,
     "metadata": {},
     "output_type": "execute_result"
    }
   ],
   "source": [
    "tr.y.describe()"
   ]
  },
  {
   "cell_type": "code",
   "execution_count": 85,
   "id": "a8c5697d",
   "metadata": {},
   "outputs": [
    {
     "data": {
      "text/plain": [
       "69.359375"
      ]
     },
     "execution_count": 85,
     "metadata": {},
     "output_type": "execute_result"
    }
   ],
   "source": [
    "pred_train.min()"
   ]
  },
  {
   "cell_type": "code",
   "execution_count": 86,
   "id": "dc858d6d",
   "metadata": {},
   "outputs": [
    {
     "data": {
      "text/plain": [
       "169.90966796875"
      ]
     },
     "execution_count": 86,
     "metadata": {},
     "output_type": "execute_result"
    }
   ],
   "source": [
    "pred_train.max()"
   ]
  },
  {
   "cell_type": "code",
   "execution_count": 87,
   "id": "ca989155",
   "metadata": {},
   "outputs": [
    {
     "data": {
      "text/plain": [
       "-98819582006.46216"
      ]
     },
     "execution_count": 87,
     "metadata": {},
     "output_type": "execute_result"
    }
   ],
   "source": [
    "pred_test.min()"
   ]
  },
  {
   "cell_type": "code",
   "execution_count": 88,
   "id": "84580c61",
   "metadata": {},
   "outputs": [
    {
     "data": {
      "text/plain": [
       "131.88330078125"
      ]
     },
     "execution_count": 88,
     "metadata": {},
     "output_type": "execute_result"
    }
   ],
   "source": [
    "pred_test.max()"
   ]
  },
  {
   "cell_type": "code",
   "execution_count": 89,
   "id": "f06960a4",
   "metadata": {},
   "outputs": [
    {
     "data": {
      "text/plain": [
       "-14.001289062500007"
      ]
     },
     "execution_count": 89,
     "metadata": {},
     "output_type": "execute_result"
    }
   ],
   "source": [
    "err_train.min()"
   ]
  },
  {
   "cell_type": "code",
   "execution_count": 90,
   "id": "8cdb394d",
   "metadata": {},
   "outputs": [
    {
     "data": {
      "text/plain": [
       "166.793388671875"
      ]
     },
     "execution_count": 90,
     "metadata": {},
     "output_type": "execute_result"
    }
   ],
   "source": [
    "err_train.max()"
   ]
  },
  {
   "cell_type": "code",
   "execution_count": 91,
   "id": "111a7413",
   "metadata": {},
   "outputs": [
    {
     "data": {
      "text/plain": [
       "-21.247441406250005"
      ]
     },
     "execution_count": 91,
     "metadata": {},
     "output_type": "execute_result"
    }
   ],
   "source": [
    "err_test.min()"
   ]
  },
  {
   "cell_type": "code",
   "execution_count": 92,
   "id": "48bb9c3f",
   "metadata": {},
   "outputs": [
    {
     "data": {
      "text/plain": [
       "98819582094.18216"
      ]
     },
     "execution_count": 92,
     "metadata": {},
     "output_type": "execute_result"
    }
   ],
   "source": [
    "err_test.max()"
   ]
  },
  {
   "cell_type": "code",
   "execution_count": 93,
   "id": "9031f527",
   "metadata": {},
   "outputs": [],
   "source": [
    "# from above observation\n",
    "# model\n",
    "# train\n",
    "# on test predicted values are very large"
   ]
  },
  {
   "cell_type": "code",
   "execution_count": 94,
   "id": "98744634",
   "metadata": {},
   "outputs": [
    {
     "data": {
      "text/plain": [
       "[0.07769459767348334,\n",
       " -0.04252396568563599,\n",
       " -0.012885796652575277,\n",
       " -0.10988104020192013,\n",
       " -0.5490296313539641,\n",
       " -0.07906366831297817,\n",
       " 0.053846257666224195,\n",
       " 0.0006688865663984078,\n",
       " -116069560452.06483,\n",
       " 594380643214.7747,\n",
       " -116069560452.34215,\n",
       " 131198191417.34189,\n",
       " -116069560453.17445,\n",
       " 120060208154.89023,\n",
       " -116069560446.97934,\n",
       " 92431395148.5743,\n",
       " -116069560443.78314,\n",
       " -116069560452.86674,\n",
       " -116069560453.63098,\n",
       " 116954414057.53743,\n",
       " -116069560453.98103,\n",
       " -116069560454.4601,\n",
       " -9585334323.388987,\n",
       " -116069560450.57101,\n",
       " 0.44976234436035156,\n",
       " -116069560453.84955,\n",
       " -174912406982.84283,\n",
       " -116069560470.81909,\n",
       " 323844669672.623,\n",
       " -116069560455.13896,\n",
       " 43828200824.3787,\n",
       " -116069560449.88004,\n",
       " -195100145944.9346,\n",
       " -116069560457.04514,\n",
       " -128744523726.65483,\n",
       " -1.5982952117919922,\n",
       " -43828200830.61979,\n",
       " 5937401460.381324,\n",
       " 5937401461.3057785,\n",
       " 5.1666377782821655,\n",
       " -0.22313451766967773,\n",
       " 52576999001.95623,\n",
       " -6.781032562255859,\n",
       " 0.4119377136230469,\n",
       " 5.8778762221336365,\n",
       " 61277532891.10552,\n",
       " 3.9886865615844727,\n",
       " 0.025228500366210938,\n",
       " 0.18775653839111328,\n",
       " 69613299796.54553,\n",
       " 128218924060.00917,\n",
       " -144877277582.2068,\n",
       " -6.888936519622803,\n",
       " 0.523871898651123,\n",
       " -2.66719913482666,\n",
       " 44936149691.89674,\n",
       " -187608037630.45438,\n",
       " 5445503723.215901,\n",
       " 162918164541.36356,\n",
       " 2565594816.837166,\n",
       " 30692491318.127953,\n",
       " -0.25343990325927734,\n",
       " -8842013532.59392,\n",
       " 77698736189.42581,\n",
       " -85155638860.92232,\n",
       " -0.5481243133544922,\n",
       " -0.005512714385986328,\n",
       " -0.6038722991943359,\n",
       " -96781199046.0692,\n",
       " 0.28135156631469727,\n",
       " -146523121123.0015,\n",
       " -3.4876766204833984,\n",
       " -163183743473.6696,\n",
       " 5937401460.472369,\n",
       " 2.2282114028930664,\n",
       " -3.2223405838012695,\n",
       " -414758827035.5576,\n",
       " -0.9791221618652344,\n",
       " 1.0687379837036133,\n",
       " -116069560468.14195,\n",
       " 48560320490.40755,\n",
       " -0.8047199249267578,\n",
       " -116069560447.0337,\n",
       " 1766444715.0398998,\n",
       " 15818032901.14016,\n",
       " 20851179107.738255,\n",
       " 12668892388.416065,\n",
       " -3.6774443686008453,\n",
       " -116069560464.44653,\n",
       " 2349934140.8298674,\n",
       " -413042365.3180938,\n",
       " 5038579718.422101,\n",
       " -124865827361.94258,\n",
       " -116069560464.06224,\n",
       " -5352472566.903451,\n",
       " -19172886838.872612,\n",
       " -0.9058437347412109,\n",
       " 5352472553.217115,\n",
       " 133296635010.17348,\n",
       " -2.9494495391845703,\n",
       " 7.000675857067108,\n",
       " -116069560445.83118,\n",
       " -0.8313062191009521,\n",
       " -717405660.4628474,\n",
       " 79334970565.77141,\n",
       " 5937401461.556947,\n",
       " 5937401463.791168,\n",
       " -185966435233.18268,\n",
       " -113164189451.41043,\n",
       " 19628300186.04646,\n",
       " -0.4804039001464844,\n",
       " 44187904658.085434,\n",
       " -0.7370157241821289,\n",
       " 44187904653.56204,\n",
       " -342090548585.52496,\n",
       " -342320426248.5561,\n",
       " -93304864746.6919,\n",
       " 6491912077.636893,\n",
       " -51627920045.63831,\n",
       " -1.2716821283102036,\n",
       " 11466789142.790415,\n",
       " -1820367862.9155464,\n",
       " -114047286137.80646,\n",
       " -38775506513.26959,\n",
       " -4.425203323364258,\n",
       " 8618074847.832472,\n",
       " -51627920053.16029,\n",
       " -51627920053.92572,\n",
       " -51627920047.59901,\n",
       " 17257280380.219994,\n",
       " 1.8923015594482422,\n",
       " -74177694062.5037,\n",
       " -110856333706.1756,\n",
       " -26110033791.927364,\n",
       " 106552348254.1029,\n",
       " -37312522363.465866,\n",
       " 0.7254683375358582,\n",
       " -25397366008.26721,\n",
       " -60137442977.47251,\n",
       " 106552348258.02208,\n",
       " 131198191419.78944,\n",
       " -23246682345.908688,\n",
       " 18889248414.9082,\n",
       " -2.679504871368408,\n",
       " 0.26448822021484375,\n",
       " 0.3454926013946533,\n",
       " -21860371446.275486,\n",
       " 3.2050869315862656,\n",
       " 13301238143.484074,\n",
       " -13859614202.866032,\n",
       " 190605090678.50082,\n",
       " 190605090677.92484,\n",
       " -25397366008.10123,\n",
       " -2.7671334743499756,\n",
       " 5937401456.33063,\n",
       " 2.5550098419189453,\n",
       " -162190383302.4034,\n",
       " -2.0167903900146484,\n",
       " 131198191414.77498,\n",
       " 100289000695.79417,\n",
       " 11088849959.569334,\n",
       " 111377850649.01263,\n",
       " 100289000702.4537,\n",
       " 11088849960.281248,\n",
       " 100289000696.98592,\n",
       " 100289000703.57808,\n",
       " -13652849426.883875,\n",
       " 13301238147.394106,\n",
       " -163683797113.53354,\n",
       " 131198191415.17699,\n",
       " -5937401461.508279,\n",
       " -5937401461.061151,\n",
       " -21.503793716430664,\n",
       " -27.767746925354004,\n",
       " -51627920047.058914,\n",
       " 131198191416.29698,\n",
       " -0.6339511871337891,\n",
       " -5311945961.164833,\n",
       " 162468771125.47687,\n",
       " 30692491321.771946,\n",
       " -695996978560.3042,\n",
       " -523268165061.39514,\n",
       " 16823815192.698317,\n",
       " -4.617411628365517,\n",
       " 0.21667951345443726,\n",
       " -1.4914336204528809,\n",
       " 189280450928.69864,\n",
       " -362009264433.28754,\n",
       " -362009264432.66,\n",
       " 0.5256557464599609,\n",
       " 216612403743.81503,\n",
       " -113712972314.59523,\n",
       " 13301238141.06355,\n",
       " 13301238138.394503,\n",
       " 24826929303.556953,\n",
       " 131198191414.04518,\n",
       " 12298884143.08573,\n",
       " -9771245705.999031,\n",
       " -3.033108115196228,\n",
       " 18717326729.15885,\n",
       " 18717326715.875317,\n",
       " -166689791230.7506,\n",
       " -32.874574437737465,\n",
       " 2.1554105281829834,\n",
       " -1.2682832479476929,\n",
       " -76222523751.03896,\n",
       " 131382525261.87389,\n",
       " -0.4049949645996094,\n",
       " -13628021817.328333,\n",
       " -16483357874.422691,\n",
       " 0.39360809326171875,\n",
       " -2.706181287765503,\n",
       " 0.012291908264160156,\n",
       " -0.1731109619140625,\n",
       " 18815780070.96567,\n",
       " -1.2466020584106445,\n",
       " -0.2613081932067871,\n",
       " 0.33373451232910156,\n",
       " 9049894881.919868,\n",
       " -11466789142.495634,\n",
       " 22070129828.783585,\n",
       " 22070129828.826145,\n",
       " -5273605715.837835,\n",
       " 1.2879867553710938,\n",
       " -77095787602.5233,\n",
       " 0.04154205322265625,\n",
       " 0.40001487731933594,\n",
       " 0.000823974609375,\n",
       " -37994304006.73097,\n",
       " 363664769935.0094,\n",
       " 2.0408172607421875,\n",
       " 131382525776.57927,\n",
       " 678886956.5804689,\n",
       " -1.9043245315551758,\n",
       " -23700628207.58174,\n",
       " 6658701665.953376,\n",
       " 48220878558.58473,\n",
       " 1218950726.990361,\n",
       " -0.7298698425292969,\n",
       " -24826929308.175865,\n",
       " 8554668451.539823,\n",
       " 11444778184.024582,\n",
       " 759018470191.0195,\n",
       " 759018470171.086,\n",
       " 9.611347436904907,\n",
       " 8554668451.539823,\n",
       " 5273605715.668913,\n",
       " 29501118701.362682,\n",
       " -0.8536033630371094,\n",
       " 47152692112.88392,\n",
       " -46883595046.033,\n",
       " -46883595057.63207,\n",
       " -29180311951.314934,\n",
       " 391152856214.3861,\n",
       " 162468108012.33472,\n",
       " 118320992988.78937,\n",
       " 71519378373.0368,\n",
       " 9212934629.020864,\n",
       " 162468108012.33472,\n",
       " 2.013546347618103,\n",
       " 0.0,\n",
       " 30581532831.501003,\n",
       " 0.0,\n",
       " 30581532833.70573,\n",
       " 8.722943305969238,\n",
       " -0.26715660095214844,\n",
       " 3.671725034713745,\n",
       " -0.08906912803649902,\n",
       " 30581532827.915268,\n",
       " -69707467879.89447,\n",
       " 30581532827.880955,\n",
       " -77024795932.05608,\n",
       " 60566532101.29722,\n",
       " -50414580927.83452,\n",
       " 74451246446.24788,\n",
       " -362009264436.3145,\n",
       " -362009264431.1699,\n",
       " -362009264433.73114,\n",
       " -362009264437.17175,\n",
       " 1.4727816581726074,\n",
       " -0.24325409531593323,\n",
       " 0.0,\n",
       " 0.0,\n",
       " -0.8324519395828247,\n",
       " -2.3533722162246704,\n",
       " 0.0,\n",
       " 0.7986081689596176,\n",
       " -90927143.3280578,\n",
       " 90927135.59468266,\n",
       " 0.0,\n",
       " -6660073200.504516,\n",
       " 6660073200.601969,\n",
       " -0.5519590377807617,\n",
       " 2.474237561225891,\n",
       " 16625258902.249113,\n",
       " 16746281482.421068,\n",
       " 16746281475.54924,\n",
       " 16746281476.061874,\n",
       " 124876156013.48811,\n",
       " 8841586520.489197,\n",
       " 105211550168.93727,\n",
       " -151101533337.38492,\n",
       " 728598879496.0149,\n",
       " -6.338624835014343,\n",
       " -432700185410.6911,\n",
       " -937900327746.2395,\n",
       " -546747471527.1011,\n",
       " -432700185411.148,\n",
       " -86264353706.09746,\n",
       " -0.4956197440624237,\n",
       " -1.7764787077903748,\n",
       " 6687598073.634894,\n",
       " -1.3318819999694824,\n",
       " 1.2470643520355225,\n",
       " -0.03327178955078125,\n",
       " 65920184015.44757,\n",
       " -1.7948007583618164,\n",
       " 12810476567.990553,\n",
       " 1.5332813262939453,\n",
       " 0.9219474792480469,\n",
       " -2.9163036346435547,\n",
       " 0.0,\n",
       " 8842013532.45425,\n",
       " -0.9506706595420837,\n",
       " 13301238143.087416,\n",
       " -163683797114.8089,\n",
       " -163683797115.91058,\n",
       " 13301238139.248228,\n",
       " -163683797111.19287,\n",
       " 13301238137.639854,\n",
       " 13301238187.922947,\n",
       " 131198191414.53331,\n",
       " 13301238137.825642,\n",
       " 13301238141.228672,\n",
       " 2.9289770126342773,\n",
       " 13301238140.293655,\n",
       " 13301238142.87957,\n",
       " 131198191415.87465,\n",
       " 0.0,\n",
       " -162918164549.57477,\n",
       " 2.806981086730957,\n",
       " 0.3177909851074219,\n",
       " -0.13482666015625,\n",
       " -8842013538.528824,\n",
       " 0.4821871519088745,\n",
       " 0.1770157814025879,\n",
       " -1.1684179306030273,\n",
       " 0.8602447509765625,\n",
       " -1766444719.887654,\n",
       " 0.5225639343261719,\n",
       " -0.9496345520019531,\n",
       " 13859614205.048153,\n",
       " 1.3922576904296875,\n",
       " -7.802728652954102,\n",
       " 124865827362.87973,\n",
       " -339443471.882519,\n",
       " -339443471.882519,\n",
       " -8.17657607793808,\n",
       " 2.669930934906006,\n",
       " 7814468810.698556,\n",
       " -29498053557.91662,\n",
       " -13884714349.137316,\n",
       " -55466783894.16871,\n",
       " -55466783896.23897,\n",
       " 108311618957.01067,\n",
       " 108311618957.59024,\n",
       " 108311618960.17114,\n",
       " 108311618961.27003,\n",
       " -9585334314.895441,\n",
       " -6824304649.619246,\n",
       " 90920365781.36757,\n",
       " -9585334318.751585,\n",
       " -68563208479.507164,\n",
       " 9.722810745239258,\n",
       " -0.18365246057510376,\n",
       " -3381953799.449635]"
      ]
     },
     "execution_count": 94,
     "metadata": {},
     "output_type": "execute_result"
    }
   ],
   "source": [
    "list(linreg.coef_)"
   ]
  },
  {
   "cell_type": "code",
   "execution_count": 95,
   "id": "7da45750",
   "metadata": {},
   "outputs": [
    {
     "data": {
      "text/plain": [
       "1224050753822.188"
      ]
     },
     "execution_count": 95,
     "metadata": {},
     "output_type": "execute_result"
    }
   ],
   "source": [
    "linreg.intercept_"
   ]
  },
  {
   "cell_type": "code",
   "execution_count": 96,
   "id": "7dcaea07",
   "metadata": {},
   "outputs": [],
   "source": [
    "# root cause of error is high beta values\n",
    "# beacuse model has mimiced the data"
   ]
  },
  {
   "cell_type": "markdown",
   "id": "aaf5ed8a",
   "metadata": {},
   "source": [
    "# regularization or generalization technique"
   ]
  },
  {
   "cell_type": "code",
   "execution_count": 99,
   "id": "7e1b03c1",
   "metadata": {},
   "outputs": [],
   "source": [
    "# regularization or generalization technique\n",
    "# regularization or generalization technique is used toover come the problem of over fitting\n",
    "# In linear regression we can use Lasso (l1) and Ridge (l2)\n",
    "# ridge and lasso are regularization or generalization technique\n",
    "# both ridge and lasso are algorithm"
   ]
  },
  {
   "cell_type": "code",
   "execution_count": 100,
   "id": "2298f6ea",
   "metadata": {},
   "outputs": [],
   "source": [
    "# Ridge (l2) and Lasso (l1)"
   ]
  },
  {
   "cell_type": "code",
   "execution_count": 101,
   "id": "8d014f23",
   "metadata": {},
   "outputs": [],
   "source": [
    "# very imp\n",
    "# COST FUNCTION (loss function) (error function)\n",
    "# It is used in every model\n",
    "# cost function is used to measure the amount of error in the model"
   ]
  },
  {
   "cell_type": "code",
   "execution_count": 102,
   "id": "d3fa863f",
   "metadata": {},
   "outputs": [],
   "source": [
    "# In linear regression cost function is MSE"
   ]
  },
  {
   "cell_type": "raw",
   "id": "b8f77e19",
   "metadata": {},
   "source": [
    "# BELOW IS DONE ON TRAIN DATA\n",
    "\n",
    "# MODEL              COST FUNCTION\n",
    "# LINEAR               MSE\n",
    "# LASSO                MSE + λ|Σβ|\n",
    "# RIDGE                MSE + λΣβ²"
   ]
  },
  {
   "cell_type": "code",
   "execution_count": 103,
   "id": "1f84ea2b",
   "metadata": {},
   "outputs": [],
   "source": [
    "# lambda is sequence of number at regular interval\n",
    "# lambda of 10 number between 0 and 1 (0,1,2,3,......)\n",
    "# lambda is also a positive number"
   ]
  },
  {
   "cell_type": "code",
   "execution_count": 104,
   "id": "d0452ed5",
   "metadata": {},
   "outputs": [],
   "source": [
    "# OVER FITTING - where error is less in trains"
   ]
  },
  {
   "cell_type": "code",
   "execution_count": 105,
   "id": "c2a4dd3e",
   "metadata": {},
   "outputs": [],
   "source": [
    "# ERROR IN LASSO IS MORE THAN ERROR IN LINEAR\n",
    "# ERROR IN RIDGE IS MORE THAN ERROR IN LINEAR\n",
    "\n",
    "# IF I INCREASE ERRORS IN TRAIN DATA OVERFITTING WILL AUTOMATICALLY DECREASE\n",
    "# SO IN RIDGE AND LASSO WE PURPOSEFULLY INCREASE THE ERRORS WHILE TRAINING THE MODEL SO THAT CHANCES OF OVERFITTING REDUCE"
   ]
  },
  {
   "cell_type": "code",
   "execution_count": 106,
   "id": "6fdd1bdf",
   "metadata": {},
   "outputs": [],
   "source": [
    "# cost function used to measure the amount of error in your model it is also MSE"
   ]
  },
  {
   "cell_type": "code",
   "execution_count": 117,
   "id": "39c5bfa4",
   "metadata": {},
   "outputs": [],
   "source": [
    "# Lasso and Ridge (FUNCTIONS)\n",
    "\n",
    "# 1) ridge and lasso are regularization or generalization technique\n",
    "# 2) Over come the problem of overfitting\n",
    "# 3) Used to overcome the problem of multi-colinearity\n",
    "# 4) lasso can be used for feature selection and ridge cannot be used for feature selection\n",
    "# 5) cost function in lasso and ridge"
   ]
  },
  {
   "cell_type": "code",
   "execution_count": 138,
   "id": "68371c8d",
   "metadata": {},
   "outputs": [],
   "source": [
    "# to solve the problem of multicolinearity\n",
    "# which is predicted values would be far away from actual values\n",
    "\n",
    "# we have shrunk(dimnished) the beta values\n",
    "# by building ridge and lasso model"
   ]
  },
  {
   "cell_type": "code",
   "execution_count": 140,
   "id": "60346899",
   "metadata": {},
   "outputs": [],
   "source": [
    "# lasso can be used for feature selection(importance), ridge cannot be used for feature selection\n",
    "\n",
    "# feature selection is used to find which X variables are more important compared to others\n",
    "# In lasso few or more beta values may exactly become zero and hence can be used for feature selection\n",
    "# In ridge few or more beta values may or may not exactly become zero and hence cannot be used for feature selection"
   ]
  },
  {
   "cell_type": "markdown",
   "id": "709a5e17",
   "metadata": {},
   "source": [
    "# Lasso model"
   ]
  },
  {
   "cell_type": "code",
   "execution_count": 143,
   "id": "a00c34be",
   "metadata": {},
   "outputs": [
    {
     "data": {
      "text/plain": [
       "0.37968184049278564"
      ]
     },
     "execution_count": 143,
     "metadata": {},
     "output_type": "execute_result"
    }
   ],
   "source": [
    "from sklearn.linear_model import Lasso\n",
    "las = Lasso()\n",
    "las.fit(tr_train_x, tr_train_y)\n",
    "las.score(tr_train_x, tr_train_y)"
   ]
  },
  {
   "cell_type": "code",
   "execution_count": 144,
   "id": "2365324c",
   "metadata": {},
   "outputs": [],
   "source": [
    "pred_train_las = las.predict(tr_train_x)\n",
    "pred_test_las = las.predict(tr_test_x)"
   ]
  },
  {
   "cell_type": "code",
   "execution_count": 145,
   "id": "aae9140f",
   "metadata": {},
   "outputs": [
    {
     "data": {
      "text/plain": [
       "6.723381036306174"
      ]
     },
     "execution_count": 145,
     "metadata": {},
     "output_type": "execute_result"
    }
   ],
   "source": [
    "mean_absolute_percentage_error(tr_train_y, pred_train_las)*100"
   ]
  },
  {
   "cell_type": "code",
   "execution_count": 146,
   "id": "3644cf3b",
   "metadata": {},
   "outputs": [
    {
     "data": {
      "text/plain": [
       "6.5312729732393855"
      ]
     },
     "execution_count": 146,
     "metadata": {},
     "output_type": "execute_result"
    }
   ],
   "source": [
    "mean_absolute_percentage_error(tr_test_y, pred_test_las)*100"
   ]
  },
  {
   "cell_type": "code",
   "execution_count": 147,
   "id": "74e696ff",
   "metadata": {},
   "outputs": [
    {
     "data": {
      "text/plain": [
       "68.2207257335115"
      ]
     },
     "execution_count": 147,
     "metadata": {},
     "output_type": "execute_result"
    }
   ],
   "source": [
    "mse_train = mean_squared_error(tr_train_y, pred_train)\n",
    "mse_train"
   ]
  },
  {
   "cell_type": "code",
   "execution_count": 150,
   "id": "e4542341",
   "metadata": {},
   "outputs": [
    {
     "data": {
      "text/plain": [
       "81.61065397144947"
      ]
     },
     "execution_count": 150,
     "metadata": {},
     "output_type": "execute_result"
    }
   ],
   "source": [
    "mse_test = mean_squared_error(tr_test_y, pred_test_las)\n",
    "mse_test"
   ]
  },
  {
   "cell_type": "code",
   "execution_count": 157,
   "id": "2212475d",
   "metadata": {},
   "outputs": [
    {
     "data": {
      "text/plain": [
       "[-0.04483117946565319,\n",
       " -0.010617515058201916,\n",
       " -0.0,\n",
       " -0.2903854257782893,\n",
       " -0.0,\n",
       " -0.05392661158474827,\n",
       " -0.0,\n",
       " 0.0,\n",
       " -0.0,\n",
       " 0.0,\n",
       " 0.0,\n",
       " 0.0,\n",
       " 0.0,\n",
       " 0.0,\n",
       " 0.0,\n",
       " -0.0,\n",
       " 0.0,\n",
       " -0.0,\n",
       " -0.0,\n",
       " 0.0,\n",
       " -0.0,\n",
       " -0.0,\n",
       " 0.0,\n",
       " -0.0,\n",
       " -0.0,\n",
       " -0.0,\n",
       " -0.0,\n",
       " -0.0,\n",
       " -0.0,\n",
       " -0.0,\n",
       " -0.0,\n",
       " 0.0,\n",
       " -0.0,\n",
       " -0.0,\n",
       " -0.0,\n",
       " 0.0,\n",
       " -0.0,\n",
       " -0.0,\n",
       " 0.0,\n",
       " -0.0,\n",
       " -0.0,\n",
       " 0.0,\n",
       " 0.0,\n",
       " -0.0,\n",
       " 0.0,\n",
       " 0.0,\n",
       " 0.0,\n",
       " 0.0,\n",
       " 0.0,\n",
       " 0.0,\n",
       " 0.0,\n",
       " -0.0,\n",
       " 0.0,\n",
       " 0.0,\n",
       " 0.0,\n",
       " 0.0,\n",
       " 0.0,\n",
       " -0.0,\n",
       " -0.0,\n",
       " 0.0,\n",
       " -0.0,\n",
       " 0.0,\n",
       " 0.0,\n",
       " 0.0,\n",
       " 0.0,\n",
       " 0.0,\n",
       " 0.0,\n",
       " -0.0,\n",
       " 0.0,\n",
       " 0.0,\n",
       " -0.0,\n",
       " 0.0,\n",
       " -0.0,\n",
       " 0.0,\n",
       " 0.0,\n",
       " -0.0,\n",
       " -0.0,\n",
       " -0.0,\n",
       " 0.0,\n",
       " 0.0,\n",
       " 0.0,\n",
       " 0.0,\n",
       " -0.0,\n",
       " -0.0,\n",
       " -0.0,\n",
       " -0.0,\n",
       " -0.0,\n",
       " -0.0,\n",
       " -0.0,\n",
       " 0.0,\n",
       " -0.0,\n",
       " 0.0,\n",
       " 0.0,\n",
       " -0.0,\n",
       " -0.0,\n",
       " -0.0,\n",
       " 0.0,\n",
       " -0.0,\n",
       " 0.0,\n",
       " 0.0,\n",
       " 0.0,\n",
       " 0.0,\n",
       " -0.0,\n",
       " 0.0,\n",
       " -0.0,\n",
       " 0.0,\n",
       " -0.0,\n",
       " -0.0,\n",
       " 0.0,\n",
       " 0.0,\n",
       " -0.0,\n",
       " -0.0,\n",
       " 0.0,\n",
       " 0.0,\n",
       " 2.569422171333744,\n",
       " 1.835244700570736e-14,\n",
       " -0.0,\n",
       " -0.0,\n",
       " 0.0,\n",
       " 0.0,\n",
       " -0.0,\n",
       " 0.0,\n",
       " -0.0,\n",
       " -0.0,\n",
       " 0.0,\n",
       " 0.0,\n",
       " 0.0,\n",
       " -0.0,\n",
       " -0.0,\n",
       " 0.0,\n",
       " 0.0,\n",
       " 0.0,\n",
       " 0.0,\n",
       " 0.0,\n",
       " 0.0,\n",
       " 0.0,\n",
       " 0.0,\n",
       " 0.0,\n",
       " -0.0,\n",
       " -0.0,\n",
       " 0.0,\n",
       " 0.0,\n",
       " 0.0,\n",
       " -0.0,\n",
       " 0.0,\n",
       " 0.0,\n",
       " 0.0,\n",
       " 0.0,\n",
       " 0.0,\n",
       " 0.0,\n",
       " 0.0,\n",
       " -0.0,\n",
       " -0.0,\n",
       " -0.0,\n",
       " 0.0,\n",
       " 0.0,\n",
       " -0.0,\n",
       " 0.0,\n",
       " 0.0,\n",
       " 0.0,\n",
       " -0.0,\n",
       " -0.0,\n",
       " 0.0,\n",
       " -0.0,\n",
       " 0.0,\n",
       " 0.0,\n",
       " 0.0,\n",
       " 0.0,\n",
       " 0.0,\n",
       " 0.0,\n",
       " 0.0,\n",
       " 0.0,\n",
       " -0.0,\n",
       " 0.0,\n",
       " 0.0,\n",
       " 0.0,\n",
       " 0.0,\n",
       " 0.0,\n",
       " 0.0,\n",
       " -0.0,\n",
       " 0.0,\n",
       " 0.0,\n",
       " 0.0,\n",
       " 0.0,\n",
       " 0.0,\n",
       " -0.0,\n",
       " -0.0,\n",
       " 0.0,\n",
       " 0.0,\n",
       " 0.0,\n",
       " 0.0,\n",
       " 0.0,\n",
       " 0.0,\n",
       " -0.0,\n",
       " 0.0,\n",
       " -0.0,\n",
       " 0.0,\n",
       " -0.0,\n",
       " 0.0,\n",
       " 0.0,\n",
       " 0.0,\n",
       " -0.0,\n",
       " -0.0,\n",
       " 0.0,\n",
       " -0.0,\n",
       " 0.0,\n",
       " 0.0,\n",
       " -0.0,\n",
       " 0.0,\n",
       " -0.0,\n",
       " -0.0,\n",
       " 0.0,\n",
       " -0.0,\n",
       " 0.0,\n",
       " 0.0,\n",
       " 0.0,\n",
       " 0.0,\n",
       " 0.0,\n",
       " 0.0,\n",
       " -0.0,\n",
       " 0.0,\n",
       " -0.0,\n",
       " 0.0,\n",
       " -0.0,\n",
       " -0.0,\n",
       " 0.0,\n",
       " -0.0,\n",
       " 0.0,\n",
       " 0.0,\n",
       " 0.0,\n",
       " 0.0,\n",
       " 0.0,\n",
       " 0.0,\n",
       " 0.0,\n",
       " -0.0,\n",
       " -0.0,\n",
       " 0.0,\n",
       " -0.0,\n",
       " -0.0,\n",
       " 0.0,\n",
       " -0.0,\n",
       " -0.0,\n",
       " -0.0,\n",
       " 0.0,\n",
       " -0.0,\n",
       " -0.0,\n",
       " 0.0,\n",
       " 0.0,\n",
       " -0.0,\n",
       " -0.0,\n",
       " -0.0,\n",
       " -0.0,\n",
       " 0.0,\n",
       " 0.0,\n",
       " 0.0,\n",
       " 0.0,\n",
       " 0.0,\n",
       " 0.0,\n",
       " 0.0,\n",
       " 0.0,\n",
       " 0.0,\n",
       " -0.0,\n",
       " 0.0,\n",
       " -0.0,\n",
       " -0.0,\n",
       " -0.0,\n",
       " -0.0,\n",
       " 0.0,\n",
       " -0.0,\n",
       " -0.0,\n",
       " -0.0,\n",
       " -0.0,\n",
       " 0.0,\n",
       " 0.0,\n",
       " 0.0,\n",
       " 0.0,\n",
       " 0.0,\n",
       " 0.0,\n",
       " -0.0,\n",
       " 0.0,\n",
       " -0.0,\n",
       " 0.0,\n",
       " 0.0,\n",
       " -0.0,\n",
       " -0.0,\n",
       " 0.0,\n",
       " 0.0,\n",
       " -0.0,\n",
       " -0.0,\n",
       " 0.0,\n",
       " -0.0,\n",
       " -0.0,\n",
       " 0.0,\n",
       " 0.0,\n",
       " 0.0,\n",
       " -0.0,\n",
       " 0.0,\n",
       " 0.0,\n",
       " 0.0,\n",
       " 0.0,\n",
       " 0.0,\n",
       " -0.0,\n",
       " 0.0,\n",
       " 0.0,\n",
       " -0.0,\n",
       " 10.940126422018603,\n",
       " 0.0,\n",
       " -0.0,\n",
       " 0.0,\n",
       " 0.0,\n",
       " 0.0,\n",
       " -0.0,\n",
       " 0.0,\n",
       " 0.0,\n",
       " 0.0,\n",
       " 0.0,\n",
       " -0.0,\n",
       " 0.0,\n",
       " 0.0,\n",
       " -0.0,\n",
       " 0.0,\n",
       " 0.0,\n",
       " 0.0,\n",
       " 0.0,\n",
       " -0.0,\n",
       " -0.0,\n",
       " -0.0,\n",
       " 0.0,\n",
       " 0.0,\n",
       " 0.0,\n",
       " 0.0,\n",
       " -0.0,\n",
       " 0.0,\n",
       " 0.0,\n",
       " 0.0,\n",
       " 0.0,\n",
       " -0.0,\n",
       " 0.0,\n",
       " 0.0,\n",
       " -0.0,\n",
       " 0.0,\n",
       " -0.0,\n",
       " 0.0,\n",
       " 0.0,\n",
       " 0.0,\n",
       " 0.0,\n",
       " 0.0,\n",
       " -0.0,\n",
       " -0.0,\n",
       " -0.0,\n",
       " -0.0,\n",
       " 0.0,\n",
       " -0.0,\n",
       " 0.0,\n",
       " 0.0,\n",
       " 0.0,\n",
       " 0.0,\n",
       " 0.0,\n",
       " 0.0,\n",
       " 0.0,\n",
       " -0.0,\n",
       " 0.0,\n",
       " -0.0,\n",
       " -0.0,\n",
       " -0.0,\n",
       " 0.0,\n",
       " 0.0,\n",
       " 0.0,\n",
       " 0.0,\n",
       " -0.0,\n",
       " 0.0,\n",
       " 0.0,\n",
       " -0.0,\n",
       " 0.0,\n",
       " 0.0,\n",
       " -0.0]"
      ]
     },
     "execution_count": 157,
     "metadata": {},
     "output_type": "execute_result"
    }
   ],
   "source": [
    "list(las.coef_) \n"
   ]
  },
  {
   "cell_type": "code",
   "execution_count": 159,
   "id": "5795d1c1",
   "metadata": {},
   "outputs": [
    {
     "data": {
      "text/plain": [
       "[-0.0,\n",
       " -0.2903854257782893,\n",
       " 2.569422171333744,\n",
       " 10.940126422018603,\n",
       " 1.835244700570736e-14,\n",
       " -0.04483117946565319,\n",
       " -0.010617515058201916,\n",
       " -0.05392661158474827]"
      ]
     },
     "execution_count": 159,
     "metadata": {},
     "output_type": "execute_result"
    }
   ],
   "source": [
    "list(set(las.coef_))"
   ]
  },
  {
   "cell_type": "code",
   "execution_count": 161,
   "id": "6a902e3a",
   "metadata": {},
   "outputs": [
    {
     "data": {
      "text/plain": [
       "7"
      ]
     },
     "execution_count": 161,
     "metadata": {},
     "output_type": "execute_result"
    }
   ],
   "source": [
    "len(list(set(las.coef_)))-1"
   ]
  },
  {
   "cell_type": "code",
   "execution_count": 163,
   "id": "220c5317",
   "metadata": {},
   "outputs": [],
   "source": [
    "# if number of x variables itself are reduced then problem of multi correlation can be taken care off"
   ]
  },
  {
   "cell_type": "code",
   "execution_count": 165,
   "id": "9b53e147",
   "metadata": {},
   "outputs": [],
   "source": [
    "# Now Is want names of only those x variables whose coef is non zero\n",
    "\n",
    "feat_imp = pd.DataFrame()\n",
    "feat_imp['Feature'] = tr_train_x.columns\n",
    "feat_imp['coef']= las.coef_"
   ]
  },
  {
   "cell_type": "code",
   "execution_count": 167,
   "id": "6b42f600",
   "metadata": {},
   "outputs": [
    {
     "data": {
      "text/html": [
       "<div>\n",
       "<style scoped>\n",
       "    .dataframe tbody tr th:only-of-type {\n",
       "        vertical-align: middle;\n",
       "    }\n",
       "\n",
       "    .dataframe tbody tr th {\n",
       "        vertical-align: top;\n",
       "    }\n",
       "\n",
       "    .dataframe thead th {\n",
       "        text-align: right;\n",
       "    }\n",
       "</style>\n",
       "<table border=\"1\" class=\"dataframe\">\n",
       "  <thead>\n",
       "    <tr style=\"text-align: right;\">\n",
       "      <th></th>\n",
       "      <th>Feature</th>\n",
       "      <th>coef</th>\n",
       "    </tr>\n",
       "  </thead>\n",
       "  <tbody>\n",
       "    <tr>\n",
       "      <th>0</th>\n",
       "      <td>X0</td>\n",
       "      <td>-4.483118e-02</td>\n",
       "    </tr>\n",
       "    <tr>\n",
       "      <th>1</th>\n",
       "      <td>X1</td>\n",
       "      <td>-1.061752e-02</td>\n",
       "    </tr>\n",
       "    <tr>\n",
       "      <th>3</th>\n",
       "      <td>X3</td>\n",
       "      <td>-2.903854e-01</td>\n",
       "    </tr>\n",
       "    <tr>\n",
       "      <th>5</th>\n",
       "      <td>X5</td>\n",
       "      <td>-5.392661e-02</td>\n",
       "    </tr>\n",
       "    <tr>\n",
       "      <th>114</th>\n",
       "      <td>X118</td>\n",
       "      <td>2.569422e+00</td>\n",
       "    </tr>\n",
       "    <tr>\n",
       "      <th>115</th>\n",
       "      <td>X119</td>\n",
       "      <td>1.835245e-14</td>\n",
       "    </tr>\n",
       "    <tr>\n",
       "      <th>305</th>\n",
       "      <td>X314</td>\n",
       "      <td>1.094013e+01</td>\n",
       "    </tr>\n",
       "  </tbody>\n",
       "</table>\n",
       "</div>"
      ],
      "text/plain": [
       "    Feature          coef\n",
       "0        X0 -4.483118e-02\n",
       "1        X1 -1.061752e-02\n",
       "3        X3 -2.903854e-01\n",
       "5        X5 -5.392661e-02\n",
       "114    X118  2.569422e+00\n",
       "115    X119  1.835245e-14\n",
       "305    X314  1.094013e+01"
      ]
     },
     "execution_count": 167,
     "metadata": {},
     "output_type": "execute_result"
    }
   ],
   "source": [
    "feat_imp[feat_imp.coef != 0]"
   ]
  },
  {
   "cell_type": "code",
   "execution_count": 169,
   "id": "5d7009cb",
   "metadata": {},
   "outputs": [
    {
     "data": {
      "text/html": [
       "<div>\n",
       "<style scoped>\n",
       "    .dataframe tbody tr th:only-of-type {\n",
       "        vertical-align: middle;\n",
       "    }\n",
       "\n",
       "    .dataframe tbody tr th {\n",
       "        vertical-align: top;\n",
       "    }\n",
       "\n",
       "    .dataframe thead th {\n",
       "        text-align: right;\n",
       "    }\n",
       "</style>\n",
       "<table border=\"1\" class=\"dataframe\">\n",
       "  <thead>\n",
       "    <tr style=\"text-align: right;\">\n",
       "      <th></th>\n",
       "      <th>Feature</th>\n",
       "      <th>coef</th>\n",
       "    </tr>\n",
       "  </thead>\n",
       "  <tbody>\n",
       "    <tr>\n",
       "      <th>0</th>\n",
       "      <td>X0</td>\n",
       "      <td>-4.483118e-02</td>\n",
       "    </tr>\n",
       "    <tr>\n",
       "      <th>1</th>\n",
       "      <td>X1</td>\n",
       "      <td>-1.061752e-02</td>\n",
       "    </tr>\n",
       "    <tr>\n",
       "      <th>3</th>\n",
       "      <td>X3</td>\n",
       "      <td>-2.903854e-01</td>\n",
       "    </tr>\n",
       "    <tr>\n",
       "      <th>5</th>\n",
       "      <td>X5</td>\n",
       "      <td>-5.392661e-02</td>\n",
       "    </tr>\n",
       "    <tr>\n",
       "      <th>114</th>\n",
       "      <td>X118</td>\n",
       "      <td>2.569422e+00</td>\n",
       "    </tr>\n",
       "    <tr>\n",
       "      <th>115</th>\n",
       "      <td>X119</td>\n",
       "      <td>1.835245e-14</td>\n",
       "    </tr>\n",
       "    <tr>\n",
       "      <th>305</th>\n",
       "      <td>X314</td>\n",
       "      <td>1.094013e+01</td>\n",
       "    </tr>\n",
       "  </tbody>\n",
       "</table>\n",
       "</div>"
      ],
      "text/plain": [
       "    Feature          coef\n",
       "0        X0 -4.483118e-02\n",
       "1        X1 -1.061752e-02\n",
       "3        X3 -2.903854e-01\n",
       "5        X5 -5.392661e-02\n",
       "114    X118  2.569422e+00\n",
       "115    X119  1.835245e-14\n",
       "305    X314  1.094013e+01"
      ]
     },
     "execution_count": 169,
     "metadata": {},
     "output_type": "execute_result"
    }
   ],
   "source": [
    "feat_imp[~(feat_imp.coef == 0)]"
   ]
  },
  {
   "cell_type": "markdown",
   "id": "bc622551",
   "metadata": {},
   "source": [
    "# Ridge"
   ]
  },
  {
   "cell_type": "code",
   "execution_count": 172,
   "id": "16aa66ef",
   "metadata": {},
   "outputs": [
    {
     "data": {
      "text/plain": [
       "0.5850820927412341"
      ]
     },
     "execution_count": 172,
     "metadata": {},
     "output_type": "execute_result"
    }
   ],
   "source": [
    "from sklearn.linear_model import Ridge\n",
    "rid = Ridge()\n",
    "rid.fit(tr_train_x,tr_train_y)\n",
    "rid.score(tr_train_x,tr_train_y)"
   ]
  },
  {
   "cell_type": "code",
   "execution_count": 174,
   "id": "18220642",
   "metadata": {},
   "outputs": [],
   "source": [
    "pred_train_rid = rid.predict(tr_train_x)\n",
    "pred_test_rid = rid.predict(tr_test_x)"
   ]
  },
  {
   "cell_type": "code",
   "execution_count": 176,
   "id": "ee1e1cc8",
   "metadata": {},
   "outputs": [
    {
     "data": {
      "text/plain": [
       "5.026843185306433"
      ]
     },
     "execution_count": 176,
     "metadata": {},
     "output_type": "execute_result"
    }
   ],
   "source": [
    "mean_absolute_percentage_error(tr_train_y, pred_train_rid)*100"
   ]
  },
  {
   "cell_type": "code",
   "execution_count": 178,
   "id": "4d2c4b9d",
   "metadata": {},
   "outputs": [
    {
     "data": {
      "text/plain": [
       "5.3146345397954455"
      ]
     },
     "execution_count": 178,
     "metadata": {},
     "output_type": "execute_result"
    }
   ],
   "source": [
    "mean_absolute_percentage_error(tr_test_y, pred_test_rid)*100"
   ]
  },
  {
   "cell_type": "code",
   "execution_count": 180,
   "id": "0717e5d6",
   "metadata": {},
   "outputs": [
    {
     "data": {
      "text/plain": [
       "68.64630106359775"
      ]
     },
     "execution_count": 180,
     "metadata": {},
     "output_type": "execute_result"
    }
   ],
   "source": [
    "mse_train = mean_squared_error(tr_train_y, pred_train_rid)\n",
    "mse_train"
   ]
  },
  {
   "cell_type": "code",
   "execution_count": 182,
   "id": "77594990",
   "metadata": {},
   "outputs": [
    {
     "data": {
      "text/plain": [
       "58.90757985483563"
      ]
     },
     "execution_count": 182,
     "metadata": {},
     "output_type": "execute_result"
    }
   ],
   "source": [
    "mse_test = mean_squared_error(tr_test_y, pred_test_rid)\n",
    "mse_test"
   ]
  },
  {
   "cell_type": "code",
   "execution_count": 184,
   "id": "7e18e627",
   "metadata": {},
   "outputs": [],
   "source": [
    "feat_imp1 = pd.DataFrame()\n",
    "feat_imp1['Feature'] = tr_train_x.columns\n",
    "feat_imp1['coef']= rid.coef_"
   ]
  },
  {
   "cell_type": "code",
   "execution_count": 186,
   "id": "ac446cd7",
   "metadata": {},
   "outputs": [
    {
     "data": {
      "text/html": [
       "<div>\n",
       "<style scoped>\n",
       "    .dataframe tbody tr th:only-of-type {\n",
       "        vertical-align: middle;\n",
       "    }\n",
       "\n",
       "    .dataframe tbody tr th {\n",
       "        vertical-align: top;\n",
       "    }\n",
       "\n",
       "    .dataframe thead th {\n",
       "        text-align: right;\n",
       "    }\n",
       "</style>\n",
       "<table border=\"1\" class=\"dataframe\">\n",
       "  <thead>\n",
       "    <tr style=\"text-align: right;\">\n",
       "      <th></th>\n",
       "      <th>Feature</th>\n",
       "      <th>coef</th>\n",
       "    </tr>\n",
       "  </thead>\n",
       "  <tbody>\n",
       "    <tr>\n",
       "      <th>0</th>\n",
       "      <td>X0</td>\n",
       "      <td>0.078041</td>\n",
       "    </tr>\n",
       "    <tr>\n",
       "      <th>1</th>\n",
       "      <td>X1</td>\n",
       "      <td>-0.045892</td>\n",
       "    </tr>\n",
       "    <tr>\n",
       "      <th>2</th>\n",
       "      <td>X2</td>\n",
       "      <td>-0.024742</td>\n",
       "    </tr>\n",
       "    <tr>\n",
       "      <th>3</th>\n",
       "      <td>X3</td>\n",
       "      <td>-0.086922</td>\n",
       "    </tr>\n",
       "    <tr>\n",
       "      <th>4</th>\n",
       "      <td>X4</td>\n",
       "      <td>-0.583131</td>\n",
       "    </tr>\n",
       "    <tr>\n",
       "      <th>...</th>\n",
       "      <td>...</td>\n",
       "      <td>...</td>\n",
       "    </tr>\n",
       "    <tr>\n",
       "      <th>371</th>\n",
       "      <td>X380</td>\n",
       "      <td>-0.793474</td>\n",
       "    </tr>\n",
       "    <tr>\n",
       "      <th>372</th>\n",
       "      <td>X382</td>\n",
       "      <td>-2.014633</td>\n",
       "    </tr>\n",
       "    <tr>\n",
       "      <th>373</th>\n",
       "      <td>X383</td>\n",
       "      <td>8.745050</td>\n",
       "    </tr>\n",
       "    <tr>\n",
       "      <th>374</th>\n",
       "      <td>X384</td>\n",
       "      <td>-0.923060</td>\n",
       "    </tr>\n",
       "    <tr>\n",
       "      <th>375</th>\n",
       "      <td>X385</td>\n",
       "      <td>-1.824825</td>\n",
       "    </tr>\n",
       "  </tbody>\n",
       "</table>\n",
       "<p>363 rows × 2 columns</p>\n",
       "</div>"
      ],
      "text/plain": [
       "    Feature      coef\n",
       "0        X0  0.078041\n",
       "1        X1 -0.045892\n",
       "2        X2 -0.024742\n",
       "3        X3 -0.086922\n",
       "4        X4 -0.583131\n",
       "..      ...       ...\n",
       "371    X380 -0.793474\n",
       "372    X382 -2.014633\n",
       "373    X383  8.745050\n",
       "374    X384 -0.923060\n",
       "375    X385 -1.824825\n",
       "\n",
       "[363 rows x 2 columns]"
      ]
     },
     "execution_count": 186,
     "metadata": {},
     "output_type": "execute_result"
    }
   ],
   "source": [
    "feat_imp1[feat_imp1.coef != 0]"
   ]
  },
  {
   "cell_type": "code",
   "execution_count": 188,
   "id": "2c22435d",
   "metadata": {},
   "outputs": [
    {
     "data": {
      "text/plain": [
       "7"
      ]
     },
     "execution_count": 188,
     "metadata": {},
     "output_type": "execute_result"
    }
   ],
   "source": [
    "len(list(set(las.coef_)))-1"
   ]
  },
  {
   "cell_type": "code",
   "execution_count": 190,
   "id": "3d20c3d4",
   "metadata": {},
   "outputs": [
    {
     "data": {
      "text/plain": [
       "363"
      ]
     },
     "execution_count": 190,
     "metadata": {},
     "output_type": "execute_result"
    }
   ],
   "source": [
    "len(rid.coef_[rid.coef_ != 0])"
   ]
  },
  {
   "cell_type": "code",
   "execution_count": 192,
   "id": "94acccc2",
   "metadata": {},
   "outputs": [
    {
     "data": {
      "text/plain": [
       "13"
      ]
     },
     "execution_count": 192,
     "metadata": {},
     "output_type": "execute_result"
    }
   ],
   "source": [
    "len(rid.coef_[rid.coef_ == 0])"
   ]
  },
  {
   "cell_type": "code",
   "execution_count": 194,
   "id": "e80039eb",
   "metadata": {},
   "outputs": [
    {
     "data": {
      "text/plain": [
       "16.148591255579085"
      ]
     },
     "execution_count": 194,
     "metadata": {},
     "output_type": "execute_result"
    }
   ],
   "source": [
    "rid.coef_.max()"
   ]
  },
  {
   "cell_type": "code",
   "execution_count": 196,
   "id": "bdb4e28a",
   "metadata": {},
   "outputs": [
    {
     "data": {
      "text/plain": [
       "759018470191.0195"
      ]
     },
     "execution_count": 196,
     "metadata": {},
     "output_type": "execute_result"
    }
   ],
   "source": [
    "linreg.coef_.max()"
   ]
  },
  {
   "cell_type": "code",
   "execution_count": 198,
   "id": "37ab5935",
   "metadata": {},
   "outputs": [
    {
     "data": {
      "text/plain": [
       "-7.817840357750442"
      ]
     },
     "execution_count": 198,
     "metadata": {},
     "output_type": "execute_result"
    }
   ],
   "source": [
    "rid.coef_.min()"
   ]
  },
  {
   "cell_type": "code",
   "execution_count": 200,
   "id": "efbff4c0",
   "metadata": {},
   "outputs": [
    {
     "data": {
      "text/plain": [
       "-937900327746.2395"
      ]
     },
     "execution_count": 200,
     "metadata": {},
     "output_type": "execute_result"
    }
   ],
   "source": [
    "linreg.coef_.min()"
   ]
  }
 ],
 "metadata": {
  "kernelspec": {
   "display_name": "Python 3 (ipykernel)",
   "language": "python",
   "name": "python3"
  },
  "language_info": {
   "codemirror_mode": {
    "name": "ipython",
    "version": 3
   },
   "file_extension": ".py",
   "mimetype": "text/x-python",
   "name": "python",
   "nbconvert_exporter": "python",
   "pygments_lexer": "ipython3",
   "version": "3.12.4"
  }
 },
 "nbformat": 4,
 "nbformat_minor": 5
}
